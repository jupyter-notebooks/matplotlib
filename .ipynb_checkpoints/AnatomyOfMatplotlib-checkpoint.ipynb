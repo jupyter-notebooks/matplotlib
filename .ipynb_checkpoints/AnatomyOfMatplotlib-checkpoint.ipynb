{
 "metadata": {
  "name": "AnatomyOfMatplotlib"
 },
 "nbformat": 3,
 "nbformat_minor": 0,
 "worksheets": [
  {
   "cells": [
    {
     "cell_type": "code",
     "collapsed": false,
     "input": [
      "# Turning on inline plots -- just for use in ipython notebooks.\n",
      "%pylab inline"
     ],
     "language": "python",
     "metadata": {},
     "outputs": [
      {
       "output_type": "stream",
       "stream": "stdout",
       "text": [
        "\n",
        "Welcome to pylab, a matplotlib-based Python environment [backend: module://IPython.kernel.zmq.pylab.backend_inline].\n",
        "For more information, type 'help(pylab)'.\n"
       ]
      }
     ],
     "prompt_number": 1
    },
    {
     "cell_type": "markdown",
     "metadata": {},
     "source": [
      "# NumPy\n",
      "The NumPy package provides the \"ndarray\" object. The NumPy array is used to contain data of uniform type with an arbitrary number of dimensions. NumPy then provides basic mathematical and array methods to lay down the foundation for the entire SciPy ecosystem.\n",
      "\n",
      "## Array Creation\n",
      "There are several ways to make NumPy arrays. An array has three particular attributes that can be queried: shape, size and the number of dimensions."
     ]
    },
    {
     "cell_type": "code",
     "collapsed": true,
     "input": [
      "import numpy as np\n",
      "\n",
      "# Create data we use later\n",
      "x = np.arange(100)\n",
      "y = np.random.randn(4, 100)\n",
      "z = np.array([[10, 23, 15], [-1, 19, -12.3]])\n",
      "\n",
      "print \"X:\", x.shape, x.size, x.ndim\n",
      "print \"Y:\", y.shape, y.size, y.ndim\n",
      "print \"Z:\", z.shape, z.size, z.ndim"
     ],
     "language": "python",
     "metadata": {},
     "outputs": []
    },
    {
     "cell_type": "markdown",
     "metadata": {},
     "source": [
      "## Array Manipulation\n",
      "How to change the shape of an array without a copy!"
     ]
    },
    {
     "cell_type": "code",
     "collapsed": false,
     "input": [
      "x.shape = (20, 5)\n",
      "print x"
     ],
     "language": "python",
     "metadata": {},
     "outputs": []
    },
    {
     "cell_type": "markdown",
     "metadata": {},
     "source": [
      "NumPy can even automatically figure out the size of at most one dimension for you."
     ]
    },
    {
     "cell_type": "code",
     "collapsed": false,
     "input": [
      "y.shape = (4, 20, -1)\n",
      "print y.shape"
     ],
     "language": "python",
     "metadata": {},
     "outputs": []
    },
    {
     "cell_type": "markdown",
     "metadata": {},
     "source": [
      "## Array Indexing"
     ]
    },
    {
     "cell_type": "code",
     "collapsed": false,
     "input": [
      "# Scalar Indexing\n",
      "print x[2]"
     ],
     "language": "python",
     "metadata": {},
     "outputs": []
    },
    {
     "cell_type": "code",
     "collapsed": false,
     "input": [
      "# Slicing\n",
      "print x[2:5]"
     ],
     "language": "python",
     "metadata": {},
     "outputs": []
    },
    {
     "cell_type": "code",
     "collapsed": false,
     "input": [
      "# Advanced slicing\n",
      "print \"First 5 rows\\n\", x[:5]\n",
      "print \"Row 18 to the end\\n\", x[18:]\n",
      "print \"Last 5 rows\\n\", x[-5:]\n",
      "print \"Reverse the rows\\n\", x[::-1]"
     ],
     "language": "python",
     "metadata": {},
     "outputs": []
    },
    {
     "cell_type": "code",
     "collapsed": false,
     "input": [
      "# Boolean Indexing\n",
      "print x[(x % 2) == 0]"
     ],
     "language": "python",
     "metadata": {},
     "outputs": []
    },
    {
     "cell_type": "code",
     "collapsed": false,
     "input": [
      "# Fancy Indexing -- Note the use of a list, not tuple!\n",
      "print x[[1, 3, 8, 9, 2]]"
     ],
     "language": "python",
     "metadata": {},
     "outputs": []
    },
    {
     "cell_type": "markdown",
     "metadata": {},
     "source": [
      "## Broadcasting\n",
      "Broadcasting is a very useful feature of NumPy that will let arrays with differing shapes still be used together. In most cases, broadcasting is faster, and it is more memory efficient than the equivalent full array operation."
     ]
    },
    {
     "cell_type": "code",
     "collapsed": true,
     "input": [
      "print \"Shape of X:\", x.shape\n",
      "print \"Shape of Y:\", y.shape"
     ],
     "language": "python",
     "metadata": {},
     "outputs": []
    },
    {
     "cell_type": "markdown",
     "metadata": {},
     "source": [
      "Now, here are three identical assignments. The first one takes full advantage of broadcasting by allowing NumPy to automatically add a new dimension to the *left*. The second explicitly adds that dimension with the special NumPy alias \"np.newaxis\". These first two creates a singleton dimension without any new arrays being created. That singleton dimension is then implicitly tiled, much like the third example to match with the RHS of the addition operator. However, unlike the third example, the broadcasting merely re-uses the existing data in memory."
     ]
    },
    {
     "cell_type": "code",
     "collapsed": false,
     "input": [
      "a = x + y\n",
      "print a.shape\n",
      "b = x[np.newaxis, :, :] + y\n",
      "print b.shape\n",
      "c = np.tile(x, (4, 1, 1)) + y\n",
      "print c.shape\n",
      "print \"Are a and b identical?\", np.all(a == b)\n",
      "print \"Are a and c identical?\", np.all(a == c)"
     ],
     "language": "python",
     "metadata": {},
     "outputs": []
    },
    {
     "cell_type": "markdown",
     "metadata": {},
     "source": [
      "Another example of broadcasting two 1-D arrays to make a 2-D array."
     ]
    },
    {
     "cell_type": "code",
     "collapsed": false,
     "input": [
      "x = np.arange(-5, 5, 0.1)\n",
      "y = np.arange(-8, 8, 0.25)\n",
      "print x.shape, y.shape\n",
      "z = x[np.newaxis, :] * y[:, np.newaxis]\n",
      "print z.shape"
     ],
     "language": "python",
     "metadata": {},
     "outputs": []
    },
    {
     "cell_type": "code",
     "collapsed": false,
     "input": [
      "# More concisely\n",
      "y, x = np.ogrid[-8:8:0.25, -5:5:0.1]\n",
      "print x.shape, y.shape\n",
      "z = x * y\n",
      "print z.shape"
     ],
     "language": "python",
     "metadata": {},
     "outputs": []
    },
    {
     "cell_type": "markdown",
     "metadata": {},
     "source": [
      "# Matplotlib\n",
      "Matplotlib is a library for producing publication-quality figures. mpl (for short) was designed from the bottom-up to serve dual-purposes. First, to allow for interactive, cross-platform control of figures and plots, and second, to make it very easy to produce static raster or vector graphics files without the need for any GUIs. Furthermore, mpl -- much like Python itself -- gives the developer complete control over the appearance of their plots, while still being very usable through a powerful defaults system. \n",
      "\n",
      "mpl is a rather large library and can seem daunting at first. However, by learning the components of an mpl figure, the library should begin to feel much smaller and more approachable.\n",
      "\n",
      "We start with the most important import statement you will ever need for matplotlib"
     ]
    },
    {
     "cell_type": "code",
     "collapsed": false,
     "input": [
      "import matplotlib.pyplot as plt"
     ],
     "language": "python",
     "metadata": {},
     "outputs": [],
     "prompt_number": 2
    },
    {
     "cell_type": "markdown",
     "metadata": {},
     "source": [
      "## Figure\n",
      "All plotting is done through the *figure* object. You can create as many figures as you need. Figures can't do much by themselves, but no plotting can happen without them. They are, literally, the \"canvas\" of your plot.\n",
      "\n",
      "You can add what is known as a \"suptitle\""
     ]
    },
    {
     "cell_type": "code",
     "collapsed": false,
     "input": [
      "fig = plt.figure()"
     ],
     "language": "python",
     "metadata": {},
     "outputs": [
      {
       "metadata": {},
       "output_type": "display_data",
       "text": [
        "<matplotlib.figure.Figure at 0x54e4970>"
       ]
      }
     ],
     "prompt_number": 3
    },
    {
     "cell_type": "markdown",
     "metadata": {},
     "source": [
      "Awww, nothing happened! This is because by default mpl will not show anything until told to do so. In other words, the \"interactive mode\" is turned off. This is very useful for scripting where we would not ever want to see the intermediate results. For those who wishes to experiment and want to see their plot as they issue commands, there is the \"plt.ion()\" command they can issue before creating their first figure of their session.\n",
      "\n",
      "For the purpoase of this ipython notebook, we will leave interactivity off."
     ]
    },
    {
     "cell_type": "code",
     "collapsed": false,
     "input": [
      "fig = plt.figure(figsize(10, 4))\n",
      "fig.gca()\n",
      "plt.show()"
     ],
     "language": "python",
     "metadata": {},
     "outputs": [
      {
       "metadata": {},
       "output_type": "display_data",
       "png": "[encoded data removed]",
       "text": [
        "<matplotlib.figure.Figure at 0x55a9270>"
       ]
      }
     ],
     "prompt_number": 5
    },
    {
     "cell_type": "code",
     "collapsed": false,
     "input": [
      "fig = plt.figure(figsize=plt.figaspect(2.0))  # twice as tall as it is wide\n",
      "fig.gca()\n",
      "plt.show()"
     ],
     "language": "python",
     "metadata": {},
     "outputs": [
      {
       "metadata": {},
       "output_type": "display_data",
       "png": "[encoded data removed]",
       "text": [
        "<matplotlib.figure.Figure at 0x56cd950>"
       ]
      }
     ],
     "prompt_number": 6
    },
    {
     "cell_type": "markdown",
     "metadata": {},
     "source": [
      "## Axes\n",
      "All plotting is done with respect to an Axes. An Axes is made up of Axis objects and many other things. An Axes object must belong to a Figure (and can ony belong to one Figure). Most commands you will ever issue will be with respect to this Axes object."
     ]
    },
    {
     "cell_type": "code",
     "collapsed": false,
     "input": [
      "fig = plt.figure()\n",
      "ax = fig.add_subplot(111)\n",
      "ax.plot([1, 2, 3, 4], [10, 20, 25, 30])\n",
      "ax.set_xlim(0.5, 4.5)\n",
      "plt.show()"
     ],
     "language": "python",
     "metadata": {},
     "outputs": []
    },
    {
     "cell_type": "markdown",
     "metadata": {},
     "source": [
      "### Labels\n",
      "You can label just about anything in mpl. You can provide a label to your plot, which allows your legend to automatically build itself. The X and Y axis can also be labeled, as well as the subplot itself via the title."
     ]
    },
    {
     "cell_type": "code",
     "collapsed": false,
     "input": [
      "fig = plt.figure()\n",
      "ax = fig.add_subplot(111)\n",
      "ax.plot([1, 2, 3, 4], [10, 20, 25, 30], label='Philadelphia')\n",
      "ax.plot([1, 2, 3, 4], [30, 23, 13, 4], label='Boston')\n",
      "ax.set_ylabel('Temperature (deg C)')\n",
      "ax.set_xlabel('Time')\n",
      "ax.set_title(\"A tale of two cities\")\n",
      "ax.legend()\n",
      "plt.show()"
     ],
     "language": "python",
     "metadata": {},
     "outputs": []
    },
    {
     "cell_type": "markdown",
     "metadata": {},
     "source": [
      "## Ticks, Tick Lines, Tick Labels and Tickers\n",
      "This is a constant source of confusion that comes up on the mailing list.\n",
      "\n",
      "* A Tick defines the *location* of a Tick Label.\n",
      "* A Tick Line is the line that denotes the location of the tick.\n",
      "* A Tick Label is the text that is displayed at that Tick.\n",
      "* A Ticker automatically determines the Ticks for an Axis."
     ]
    },
    {
     "cell_type": "code",
     "collapsed": false,
     "input": [
      "fig = plt.figure()\n",
      "ax = fig.add_subplot(111)\n",
      "ax.plot([1, 2, 3, 4], [10, 20, 25, 30])\n",
      "ax.xaxis.set_ticks(range(1, 5))\n",
      "ax.xaxis.set_ticklabels([3, 100, -12, \"foo\"])\n",
      "plt.show()"
     ],
     "language": "python",
     "metadata": {},
     "outputs": []
    },
    {
     "cell_type": "markdown",
     "metadata": {},
     "source": [
      "## Subplots\n",
      "While an Axes object can only belong to one Figure, A Figure can have many Axes objects. These axes objects are typically called \"subaxes\" or \"subplots\". They act just like regular Axes."
     ]
    },
    {
     "cell_type": "code",
     "collapsed": false,
     "input": [
      "fig = plt.figure(figsize=(10, 5))\n",
      "ax = fig.add_subplot(121)\n",
      "ax.plot([1, 2, 3, 4], [10, 20, 25, 30], label='Philadelphia')\n",
      "ax.plot([1, 2, 3, 4], [30, 23, 13, 4], label='Boston')\n",
      "ax.set_title('A tale of two cities')\n",
      "ax.legend()\n",
      "\n",
      "t = np.linspace(0, 7, 25)\n",
      "z = 2 * np.sin(t) + 5\n",
      "ax = fig.add_subplot(122)\n",
      "ax.scatter(t, z, label='Philadelphia')\n",
      "ax.set_title(\"Observed Tide\")\n",
      "ax.legend()\n",
      "\n",
      "fig.suptitle('A title for the whole figure')\n",
      "plt.show()"
     ],
     "language": "python",
     "metadata": {},
     "outputs": []
    },
    {
     "cell_type": "markdown",
     "metadata": {},
     "source": [
      "## Axis Spines"
     ]
    },
    {
     "cell_type": "code",
     "collapsed": false,
     "input": [
      "fig = plt.figure()\n",
      "ax = fig.add_subplot(111)\n",
      "ax.plot([1, 2, 3, 4], [10, 20, 25, 30])\n",
      "ax.spines['top'].set_visible(False)\n",
      "ax.xaxis.set_ticks_position('bottom')  # no ticklines at the top\n",
      "ax.spines['right'].set_visible(False)\n",
      "ax.yaxis.set_ticks_position('left')  # no ticklines on the right\n",
      "ax.spines['bottom'].set_position(('outward', 10))\n",
      "ax.spines['left'].set_position(('outward', 10))\n",
      "plt.show()"
     ],
     "language": "python",
     "metadata": {},
     "outputs": []
    },
    {
     "cell_type": "markdown",
     "metadata": {},
     "source": [
      "## Colorbars"
     ]
    },
    {
     "cell_type": "code",
     "collapsed": false,
     "input": [
      "y, x = np.ogrid[-6:6:20j, -10:10:30j]\n",
      "z = np.hypot(x, y)\n",
      "plt.imshow(z)\n",
      "plt.colorbar()\n",
      "plt.show()"
     ],
     "language": "python",
     "metadata": {},
     "outputs": []
    },
    {
     "cell_type": "code",
     "collapsed": false,
     "input": [
      "plt.imshow(z)\n",
      "plt.colorbar(orientation='horizontal', shrink=0.75)\n",
      "plt.show()"
     ],
     "language": "python",
     "metadata": {},
     "outputs": []
    },
    {
     "cell_type": "code",
     "collapsed": false,
     "input": [
      "plt.imshow(z)\n",
      "cbar = plt.colorbar(extend='both', aspect=10)\n",
      "cbar.set_label('distance')\n",
      "plt.show()"
     ],
     "language": "python",
     "metadata": {},
     "outputs": []
    },
    {
     "cell_type": "markdown",
     "metadata": {},
     "source": [
      "## Lines and markers\n",
      "With just about any plot you can make, there are many attributes that can be modified to suit your needs."
     ]
    },
    {
     "cell_type": "code",
     "collapsed": false,
     "input": [
      "t = np.arange(0., 5., 0.2)\n",
      "# red dashes, blue squares and green triangles\n",
      "plt.plot(t, t, 'r--', t, t**2, 'bs', t, t**3, 'g^')\n",
      "plt.show()"
     ],
     "language": "python",
     "metadata": {},
     "outputs": []
    },
    {
     "cell_type": "raw",
     "metadata": {},
     "source": [
      "| Property               | Value Type                                      |\n",
      "|------------------------|-------------------------------------------------|\n",
      "|alpha\t\t\t       | float                                           |\n",
      "|color or c\t\t      | any matplotlib color                            |\n",
      "|dash_capstyle\t\t   | ['butt' | 'round' | 'projecting']               |\n",
      "|dash_joinstyle\t\t  | ['miter' | 'round' | 'bevel']                   |\n",
      "|dashes\t\t\t      | sequence of on/off ink in points                |\n",
      "|drawstyle               | [ \u2018default\u2019 | \u2018steps\u2019 | \u2018steps-pre\u2019 |           |\n",
      "|                        |   \u2018steps-mid\u2019 | \u2018steps-post\u2019 ]                  |\n",
      "|linestyle or ls\t\t | [ '-' | '--' | '-.' | ':' | 'None' | ' ' | '' ] |\n",
      "|                        | and any drawstyle in combination with a         |\n",
      "|                        | linestyle, e.g. 'steps--'.                      |\n",
      "|linewidth or lw\t\t | float value in points                           |\n",
      "|marker\t\t\t      | [ 7 | 4 | 5 | 6 | 'o' | 'D' | 'h' | 'H' | '_' | |\n",
      "|                        |  '' | 'None' | ' ' | None | '8' | 'p' | ',' |   |\n",
      "|                        |  '+' | '.' | 's' | '*' | 'd' | 3 | 0 | 1 | 2 |  |\n",
      "|                        |  '1' | '3' | '4' | '2' | 'v' | '<' | '>' |      |\n",
      "|                        |  '^' | '|' | 'x' | '$...$' | tuple | Nx2 array ]|\n",
      "|markeredgecolor or mec  | any matplotlib color                            |\n",
      "|markeredgewidth or mew  | float value in points                           |\n",
      "|markerfacecolor or mfc  | any matplotlib color                            |\n",
      "|markersize or ms        | float                                           |\n",
      "|solid_capstyle          | ['butt' | 'round' |  'projecting']              |\n",
      "|solid_joinstyle         | ['miter' | 'round' | 'bevel']                   |\n",
      "|visible\t\t         | [True | False]                                  |\n",
      "|zorder                  | any number                                      |\n",
      "----------------------------------------------------------------------------"
     ]
    },
    {
     "cell_type": "markdown",
     "metadata": {},
     "source": [
      "### Exercise\n",
      "Try out some of these properties yourself!"
     ]
    },
    {
     "cell_type": "code",
     "collapsed": false,
     "input": [
      "t = np.arange(0.0, 5.0, 0.1)\n",
      "a = np.exp(-t) * np.cos(2*np.pi*t)\n",
      "plt.plot(t, a, color='r', marker='v', lw=3)\n",
      "plt.show()"
     ],
     "language": "python",
     "metadata": {},
     "outputs": []
    },
    {
     "cell_type": "markdown",
     "metadata": {},
     "source": [
      "## LaTeX rendering\n",
      "Oftentimes, your LaTeX finger goes a-twitchin' and you just simply need that superscript or some other math text in your labels. Matplotlib provides a very easy way to do this.  Any text that is surrounded by dollar signs will be treated as mathtext. Do note that because backslashes are prevelent in LaTeX, it is often a good idea to prepend an `r` to your string literal so that python will not treat the backslashes as escape characters."
     ]
    },
    {
     "cell_type": "code",
     "collapsed": false,
     "input": [
      "plt.scatter([1, 2, 3, 4], [4, 3, 2, 1])\n",
      "plt.title(r'$\\sigma_i=15$', fontsize=20)\n",
      "plt.show()"
     ],
     "language": "python",
     "metadata": {},
     "outputs": []
    },
    {
     "cell_type": "markdown",
     "metadata": {},
     "source": [
      "## Annotations\n",
      "There are two ways one can place arbitrary text anywhere they want on a plot. The first is a simple `text()`.  Then there is the fancier `annotate()` function that can help \"point out\" what you want to annotate."
     ]
    },
    {
     "cell_type": "code",
     "collapsed": false,
     "input": [
      "t = np.arange(0.0, 5.0, 0.01)\n",
      "s = np.cos(2*np.pi*t)\n",
      "line, = plt.plot(t, s, lw=2)\n",
      "\n",
      "plt.annotate('local max', xy=(2, 1), xytext=(3, 1.5),\n",
      "             arrowprops=dict(facecolor='black', shrink=0.05))\n",
      "\n",
      "plt.ylim(-2,2)\n",
      "plt.show()"
     ],
     "language": "python",
     "metadata": {},
     "outputs": []
    },
    {
     "cell_type": "markdown",
     "metadata": {},
     "source": [
      "## Artists\n",
      "Anything that can be displayed in a Figure is generically called an \"Artist\". There are many different kinds of Artists. Here is a sample."
     ]
    },
    {
     "cell_type": "code",
     "collapsed": false,
     "input": [
      "\"\"\"\n",
      "Show examples of matplotlib artists\n",
      "http://matplotlib.org/api/artist_api.html\n",
      "\n",
      "Several examples of standard matplotlib graphics primitives (artists)\n",
      "are drawn using matplotlib API. Full list of artists and the\n",
      "documentation is available at\n",
      "http://matplotlib.org/api/artist_api.html\n",
      "\n",
      "Copyright (c) 2010, Bartosz Telenczuk\n",
      "\n",
      "License: This work is licensed under the BSD. A copy should be\n",
      "included with this source code, and is also available at\n",
      "http://www.opensource.org/licenses/bsd-license.php\n",
      "\"\"\"\n",
      "\n",
      "\n",
      "import numpy as np\n",
      "import matplotlib.pyplot as plt\n",
      "import matplotlib\n",
      "from matplotlib.collections import PatchCollection\n",
      "import matplotlib.path as mpath\n",
      "import matplotlib.patches as mpatches\n",
      "import matplotlib.lines as mlines\n",
      "\n",
      "font = \"sans-serif\"\n",
      "fig = plt.figure(figsize=(5,5))\n",
      "ax = plt.axes([0,0,1,1])\n",
      "\n",
      "# create 3x3 grid to plot the artists\n",
      "pos = np.mgrid[0.2:0.8:3j, 0.2:0.8:3j].reshape(2, -1)\n",
      "\n",
      "patches = []\n",
      "\n",
      "# add a circle\n",
      "art = mpatches.Circle(pos[:,0], 0.1,ec=\"none\")\n",
      "patches.append(art)\n",
      "plt.text(pos[0,0], pos[1,0]-0.15, \"Circle\", ha=\"center\",\n",
      "        family=font, size=14)\n",
      "\n",
      "# add a rectangle\n",
      "art = mpatches.Rectangle(pos[:,1] - np.array([0.025, 0.05]), 0.05, 0.1,\n",
      "        ec=\"none\")\n",
      "patches.append(art)\n",
      "plt.text(pos[0,1], pos[1,1]-0.15, \"Rectangle\", ha=\"center\",\n",
      "        family=font, size=14)\n",
      "\n",
      "# add a wedge\n",
      "wedge = mpatches.Wedge(pos[:,2], 0.1, 30, 270, ec=\"none\")\n",
      "patches.append(wedge)\n",
      "plt.text(pos[0,2], pos[1,2]-0.15, \"Wedge\", ha=\"center\",\n",
      "        family=font, size=14)\n",
      "\n",
      "# add a Polygon\n",
      "polygon = mpatches.RegularPolygon(pos[:,3], 5, 0.1)\n",
      "patches.append(polygon)\n",
      "plt.text(pos[0,3], pos[1,3]-0.15, \"Polygon\", ha=\"center\",\n",
      "        family=font, size=14)\n",
      "\n",
      "#add an ellipse\n",
      "ellipse = mpatches.Ellipse(pos[:,4], 0.2, 0.1)\n",
      "patches.append(ellipse)\n",
      "plt.text(pos[0,4], pos[1,4]-0.15, \"Ellipse\", ha=\"center\",\n",
      "        family=font, size=14)\n",
      "\n",
      "#add an arrow\n",
      "arrow = mpatches.Arrow(pos[0,5]-0.05, pos[1,5]-0.05, 0.1, 0.1, width=0.1)\n",
      "patches.append(arrow)\n",
      "plt.text(pos[0,5], pos[1,5]-0.15, \"Arrow\", ha=\"center\",\n",
      "        family=font, size=14)\n",
      "\n",
      "# add a path patch\n",
      "Path = mpath.Path\n",
      "verts = np.array([\n",
      "     (0.158, -0.257),\n",
      "     (0.035, -0.11),\n",
      "     (-0.175, 0.20),\n",
      "     (0.0375, 0.20),\n",
      "     (0.085, 0.115),\n",
      "     (0.22, 0.32),\n",
      "     (0.3, 0.005),\n",
      "     (0.20, -0.05),\n",
      "     (0.158, -0.257),\n",
      "    ])\n",
      "verts = verts-verts.mean(0)\n",
      "codes = [Path.MOVETO,\n",
      "         Path.CURVE4, Path.CURVE4, Path.CURVE4, Path.LINETO,\n",
      "         Path.CURVE4, Path.CURVE4, Path.CURVE4, Path.CLOSEPOLY]\n",
      "\n",
      "path = mpath.Path(verts/2.5+pos[:,6], codes)\n",
      "patch = mpatches.PathPatch(path)\n",
      "patches.append(patch)\n",
      "plt.text(pos[0,6], pos[1,6]-0.15, \"PathPatch\", ha=\"center\",\n",
      "        family=font, size=14)\n",
      "\n",
      "# add a fancy box\n",
      "fancybox = mpatches.FancyBboxPatch(\n",
      "        pos[:,7]-np.array([0.025, 0.05]), 0.05, 0.1,\n",
      "        boxstyle=mpatches.BoxStyle(\"Round\", pad=0.02))\n",
      "patches.append(fancybox)\n",
      "plt.text(pos[0,7], pos[1,7]-0.15, \"FancyBoxPatch\", ha=\"center\",\n",
      "        family=font, size=14)\n",
      "\n",
      "# add a line\n",
      "x,y = np.array([[-0.06, 0.0, 0.1], [0.05,-0.05, 0.05]])\n",
      "line = mlines.Line2D(x+pos[0,8], y+pos[1,8], lw=5.,\n",
      "        alpha=0.4)\n",
      "plt.text(pos[0,8], pos[1,8]-0.15, \"Line2D\", ha=\"center\",\n",
      "        family=font, size=14)\n",
      "\n",
      "colors = 100*np.random.rand(len(patches))\n",
      "collection = PatchCollection(patches, cmap=matplotlib.cm.jet, alpha=0.4)\n",
      "collection.set_array(np.array(colors))\n",
      "ax.add_collection(collection)\n",
      "ax.add_line(line)\n",
      "ax.set_xticks([])\n",
      "ax.set_yticks([])\n",
      "\n",
      "plt.show()\n"
     ],
     "language": "python",
     "metadata": {},
     "outputs": []
    },
    {
     "cell_type": "code",
     "collapsed": false,
     "input": [],
     "language": "python",
     "metadata": {},
     "outputs": []
    }
   ],
   "metadata": {}
  }
 ]
}